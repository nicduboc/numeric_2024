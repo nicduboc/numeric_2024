{
 "cells": [
  {
   "cell_type": "markdown",
   "id": "a04a96fd-83b0-44e7-8b06-79d335f6ccf6",
   "metadata": {},
   "source": [
    "# Assignment Lab 2 - Nicolas Duboc"
   ]
  },
  {
   "cell_type": "markdown",
   "id": "52edf3ea-7286-4eb0-a51b-be3ba0805b26",
   "metadata": {},
   "source": [
    "## Problem Accuracy\n",
    "\n"
   ]
  },
  {
   "cell_type": "markdown",
   "id": "c74305d0-809e-49b4-b1f9-219e393f9b5b",
   "metadata": {},
   "source": [
    "### Forward Euler"
   ]
  },
  {
   "cell_type": "code",
   "execution_count": null,
   "id": "e9c4cb11-b18e-41e6-bddf-75a80b3e1c30",
   "metadata": {},
   "outputs": [],
   "source": []
  }
 ],
 "metadata": {
  "kernelspec": {
   "display_name": "Python 3 (ipykernel)",
   "language": "python",
   "name": "python3"
  },
  "language_info": {
   "codemirror_mode": {
    "name": "ipython",
    "version": 3
   },
   "file_extension": ".py",
   "mimetype": "text/x-python",
   "name": "python",
   "nbconvert_exporter": "python",
   "pygments_lexer": "ipython3",
   "version": "3.12.1"
  }
 },
 "nbformat": 4,
 "nbformat_minor": 5
}
