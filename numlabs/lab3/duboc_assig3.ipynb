{
 "cells": [
  {
   "cell_type": "markdown",
   "id": "e77bdd22-320e-4b68-909f-b7b0c1c5decd",
   "metadata": {},
   "source": [
    "# Assignment Lab 3 - Nicolas Duboc\n",
    "\n",
    "## Part (a) \n",
    "\n",
    "**Write the appropriate equation for the steady state.**\n",
    "\n",
    "Given: \n",
    "\n",
    "$$\\dfrac{\\delta S}{\\delta t} = \\kappa\\dfrac{\\delta^2 S}{\\delta x^2} - \\gamma S +\\alpha(x)$$\n",
    "\n",
    "The steady state is given by:\n",
    "\n",
    "$$0 = \\kappa\\dfrac{\\delta^2 S}{\\delta x^2} - \\gamma S +\\alpha(x)$$\n",
    "\n",
    "$$\\dfrac{\\delta^2 S}{\\delta x^2} = \\dfrac{\\gamma S -\\alpha(x)}{\\kappa} $$\n",
    "\n",
    "## Part (b)\n",
    "\n",
    "**Discretize the hall into N segments and write the equation for the\n",
    "steady state as a matrix equation.**\n",
    "\n",
    "Approximating $\\dfrac{\\delta^2 S}{\\delta t^2}$ using second order centered difference: \n",
    "\n",
    "$$ \\dfrac{S_{i+1} - 2S_{i} + S_{i-1}}{\\Delta x^2}= \\dfrac{\\gamma S_{i}-\\alpha(x)}{\\kappa}$$\n",
    "\n",
    "$$S_{i+1} - 2S_{i} + S_{i-1} = \\dfrac{(\\gamma S_{i} - \\alpha(x) )\\Delta x^2}{\\kappa}$$\n",
    "\n",
    "$$S_{i+1} - 2S_{i} + S_{i-1} -\\dfrac{\\gamma \\Delta x^2}{\\kappa} = -\\dfrac{\\alpha(x) \\Delta x^2}{\\kappa}$$\n",
    "\n",
    "$$S_{i+1} + S_{i-1} + \\dfrac{\\alpha(x) \\Delta x^2}{\\kappa} = S_{i}(2+\\dfrac{\\gamma \\Delta x^2}{\\kappa})$$\n",
    "\n",
    "$$S_{i+1} -S_{i}(2+\\dfrac{\\gamma \\Delta x^2}{\\kappa})+ S_{i-1}  =  -\\dfrac{\\alpha(x) \\Delta x^2}{\\kappa}$$\n",
    "\n",
    "$$S_{i+1} -S_{i}(2+\\dfrac{\\gamma \\Delta x^2}{\\kappa})+ S_{i-1}  =  -\\dfrac{\\alpha(x) \\Delta x^2}{\\kappa}$$\n",
    "\n",
    "Setting $z = 2+\\dfrac{\\gamma \\Delta x^2}{\\kappa}$ and $f = -\\dfrac{\\alpha(x) \\Delta x^2}{\\kappa}$\n",
    "\n",
    "The matrix is equation is: \n",
    "\n",
    "$$\n",
    "A \n",
    "\\left(\\begin{array}{cc} \n",
    "1 & 0 & 0 & 0 & 0 & 0 \\\\\n",
    "1 & -z & 1 & 0 & 0 & 0 \\\\\n",
    "0 & 1 & -z & 1 & 0 & 0 \\\\\n",
    "0 & 0 & 1 & -z & 1 & 0 \\\\\n",
    "0 & 0 & 0 & 1 & -z & 1 \\\\\n",
    "0 & 0 & 0 & 0 & 0 & 1\n",
    "\\end{array}\\right)\n",
    "\\times S \n",
    "\\left(\\begin{array}{cc} \n",
    "S_{0}\\\\ \n",
    "S_{1}\\\\\n",
    "S_{2}\\\\\n",
    "S_{3}\\\\\n",
    "S_{4}\\\\\n",
    "S_{5}\\\\\n",
    "\\end{array}\\right)\n",
    "=F\n",
    "\\left(\\begin{array}{cc} \n",
    "f_{0}\\\\ \n",
    "f_{1}\\\\\n",
    "f_{2}\\\\\n",
    "f_{3}\\\\\n",
    "f_{4}\\\\\n",
    "f_{5}\\\\\n",
    "\\end{array}\\right)\n",
    "$$ \n",
    "\n",
    "\n",
    "## Part (c)\n",
    "\n",
    "Matrix operation becomes: \n",
    "\n",
    "$$A \\times S = F \\rightarrow S = F \\times A^-1$$\n",
    "\n",
    "$x_{*}$ at $i = 3$ when $i$ starts at $0$, $z$ and $f$ become:\n",
    "\n",
    "$z = \\dfrac{\\alpha_{0} \\Delta x^2}{\\kappa} = 2.5$  \n",
    "\n",
    "$f = 2+\\dfrac{\\gamma \\Delta x^2}{\\kappa} \\approx 2.14 $\n",
    "\n",
    "\n"
   ]
  },
  {
   "cell_type": "code",
   "execution_count": 1,
   "id": "2d80a06d-109b-4b24-ad95-02e8df32c1b2",
   "metadata": {},
   "outputs": [],
   "source": [
    "import numpy as np \n",
    "def n_matrix(N,gam=True):\n",
    "    A = np.zeros(shape=(N+1,N+1))\n",
    "    kappa = 0.05\n",
    "    if gam:\n",
    "        gamma = 1/3600\n",
    "    else:\n",
    "        gamma = 0\n",
    "    alpha_x = 0.005\n",
    "    z = 2+((gamma*(N)**2)/kappa)\n",
    "    disc_coeff = [1.,-z,1.] #central diff approx\n",
    "\n",
    "\n",
    "    #Dirischlet\n",
    "    A[0,0] = 1\n",
    "    A[-1,-1] = 1\n",
    "    \n",
    "    for i in range(1,N):\n",
    "        A[i,i-1:len(disc_coeff)+(i-1)] = disc_coeff\n",
    "\n",
    "    S = np.zeros(N+1).reshape((N+1),1)\n",
    "\n",
    "    F = np.zeros(N+1).reshape((N+1),1)\n",
    "    F[3] = -(alpha_x*(N)**2)/kappa\n",
    "\n",
    "    return A, S, F\n"
   ]
  },
  {
   "cell_type": "code",
   "execution_count": 2,
   "id": "b7ff4e89-46f4-4854-ba57-14635c3b7396",
   "metadata": {},
   "outputs": [],
   "source": [
    "N = 5\n",
    "A,S,F  = n_matrix(N)\n",
    "np.set_printoptions(linewidth=100)"
   ]
  },
  {
   "cell_type": "code",
   "execution_count": 3,
   "id": "858c247c-f9bb-41ae-9afb-42ce1503b29f",
   "metadata": {},
   "outputs": [
    {
     "data": {
      "text/plain": [
       "array([[ 1.        ,  0.        ,  0.        ,  0.        ,  0.        ,  0.        ],\n",
       "       [ 1.        , -2.13888889,  1.        ,  0.        ,  0.        ,  0.        ],\n",
       "       [ 0.        ,  1.        , -2.13888889,  1.        ,  0.        ,  0.        ],\n",
       "       [ 0.        ,  0.        ,  1.        , -2.13888889,  1.        ,  0.        ],\n",
       "       [ 0.        ,  0.        ,  0.        ,  1.        , -2.13888889,  1.        ],\n",
       "       [ 0.        ,  0.        ,  0.        ,  0.        ,  0.        ,  1.        ]])"
      ]
     },
     "execution_count": 3,
     "metadata": {},
     "output_type": "execute_result"
    }
   ],
   "source": [
    "A"
   ]
  },
  {
   "cell_type": "code",
   "execution_count": 4,
   "id": "4545eaff-d7cc-459b-af8d-20a22219b707",
   "metadata": {},
   "outputs": [
    {
     "data": {
      "text/plain": [
       "array([[ 0. ],\n",
       "       [ 0. ],\n",
       "       [ 0. ],\n",
       "       [-2.5],\n",
       "       [ 0. ],\n",
       "       [ 0. ]])"
      ]
     },
     "execution_count": 4,
     "metadata": {},
     "output_type": "execute_result"
    }
   ],
   "source": [
    "F"
   ]
  },
  {
   "cell_type": "code",
   "execution_count": 5,
   "id": "523267fe-ea68-41b2-855d-563edb7d2694",
   "metadata": {},
   "outputs": [],
   "source": [
    "A_inv = np.linalg.inv(A)\n",
    "S = A_inv*F"
   ]
  },
  {
   "cell_type": "markdown",
   "id": "03c01923-3019-455c-9f21-625729663ba3",
   "metadata": {},
   "source": [
    "Solution for $S = S_{0},S_{1},S_{2}...S_{N}$ is:"
   ]
  },
  {
   "cell_type": "code",
   "execution_count": 6,
   "id": "1f844983-2525-45aa-bfb0-1f645514ab10",
   "metadata": {},
   "outputs": [
    {
     "data": {
      "text/plain": [
       "array([[-0.65172863],\n",
       "       [ 0.65172863],\n",
       "       [ 1.39397513],\n",
       "       [ 2.32982928],\n",
       "       [ 1.08927083],\n",
       "       [-1.08927083]])"
      ]
     },
     "execution_count": 6,
     "metadata": {},
     "output_type": "execute_result"
    }
   ],
   "source": [
    "S[3].reshape(N+1,1)"
   ]
  },
  {
   "cell_type": "markdown",
   "id": "0b3a4acc-adc1-481e-b989-7c3639d19d9b",
   "metadata": {},
   "source": [
    "# Part (d)\n",
    "\n",
    "Condition number of $A \\approx 8.5$"
   ]
  },
  {
   "cell_type": "code",
   "execution_count": 7,
   "id": "37ccdfe8-b4d2-4709-bf23-ff8880c0cc47",
   "metadata": {},
   "outputs": [
    {
     "data": {
      "text/plain": [
       "8.487932986194267"
      ]
     },
     "execution_count": 7,
     "metadata": {},
     "output_type": "execute_result"
    }
   ],
   "source": [
    "np.linalg.cond(A)"
   ]
  },
  {
   "cell_type": "markdown",
   "id": "fd878bbf-d070-4507-81a3-d3c1c94881c1",
   "metadata": {},
   "source": [
    "# Part (e)\n",
    "\n",
    "**If $\\gamma$ is 0 what is the condition number of the matrix? (using\n",
    "python) Physically why is there no single solution?**\n",
    "\n",
    "Condition number of $A$ when $\\gamma = 0$ is $\\approx 11$"
   ]
  },
  {
   "cell_type": "code",
   "execution_count": 8,
   "id": "41b0b0a2-5861-4b76-b8a9-d505b8221c74",
   "metadata": {},
   "outputs": [
    {
     "data": {
      "text/plain": [
       "array([[ 1.,  0.,  0.,  0.,  0.,  0.],\n",
       "       [ 1., -2.,  1.,  0.,  0.,  0.],\n",
       "       [ 0.,  1., -2.,  1.,  0.,  0.],\n",
       "       [ 0.,  0.,  1., -2.,  1.,  0.],\n",
       "       [ 0.,  0.,  0.,  1., -2.,  1.],\n",
       "       [ 0.,  0.,  0.,  0.,  0.,  1.]])"
      ]
     },
     "execution_count": 8,
     "metadata": {},
     "output_type": "execute_result"
    }
   ],
   "source": [
    "A_gamma_zero = n_matrix(N,False)\n",
    "A_gamma_zero[0]"
   ]
  },
  {
   "cell_type": "code",
   "execution_count": 9,
   "id": "880880a6-b2d1-40e3-9863-e81812cdd7b6",
   "metadata": {},
   "outputs": [
    {
     "data": {
      "text/plain": [
       "10.994600319765423"
      ]
     },
     "execution_count": 9,
     "metadata": {},
     "output_type": "execute_result"
    }
   ],
   "source": [
    "np.linalg.cond(A_gamma_zero[0])"
   ]
  },
  {
   "cell_type": "markdown",
   "id": "105ddd93-3f40-4dc3-8969-d2c57b403022",
   "metadata": {},
   "source": [
    "Physically when $\\gamma = 0$ no single solution exists because there is no measurement of how the smoke leaves the system. Therefore it's dispersion can have multiple outcomes."
   ]
  },
  {
   "cell_type": "markdown",
   "id": "0e7d9783-2709-4b10-bae4-037845bed0bb",
   "metadata": {},
   "source": [
    "## Part (f)"
   ]
  },
  {
   "cell_type": "markdown",
   "id": "823fd99a-a4b2-4a2d-b292-454a3f7cce5e",
   "metadata": {},
   "source": [
    "**If γ is 0 and α is 0, why physically is there no single solution?**\n",
    "\n",
    "If both $\\alpha = 0$ and $\\gamma = 0$ no solution exists because there is no measurement of how the smoke enters and leaves the system. "
   ]
  }
 ],
 "metadata": {
  "kernelspec": {
   "display_name": "Python 3 (ipykernel)",
   "language": "python",
   "name": "python3"
  },
  "language_info": {
   "codemirror_mode": {
    "name": "ipython",
    "version": 3
   },
   "file_extension": ".py",
   "mimetype": "text/x-python",
   "name": "python",
   "nbconvert_exporter": "python",
   "pygments_lexer": "ipython3",
   "version": "3.12.1"
  }
 },
 "nbformat": 4,
 "nbformat_minor": 5
}
