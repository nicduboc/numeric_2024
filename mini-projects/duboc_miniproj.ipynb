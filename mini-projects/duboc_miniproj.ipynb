{
 "cells": [
  {
   "cell_type": "code",
   "execution_count": 1,
   "id": "f631fa28-54fa-4ac2-a296-0b9315f85050",
   "metadata": {},
   "outputs": [],
   "source": [
    "import numpy as np \n",
    "import matplotlib.pyplot as plt"
   ]
  },
  {
   "cell_type": "code",
   "execution_count": 8,
   "id": "1128357c-b348-42b1-981d-b78c68826c33",
   "metadata": {},
   "outputs": [],
   "source": [
    "def deriv_I(d,alpha):\n",
    "    beta = 0.5 \n",
    "    Io = 100*(1-(beta+0.1))\n",
    "    return -(Io*np.exp(-d/alpha))/alpha\n",
    "\n",
    "def deriv_Ah(depth,h):\n",
    "    A_max = 1e-2\n",
    "    A_depth = 1e-4\n",
    "    A_dip = 1.5e-3\n",
    "    if depth < h:\n",
    "        return A_max\n",
    "    else:\n",
    "        return  A_depth + (A_max-A_depth-A_dip*(depth-h))*np.exp(-0.5*(depth-h))\n",
    "    #return A_depth + (A_max-A_depth-A_dip*(depth-h))*np.exp(-0.5*(depth-h))\n",
    "    \n",
    "def n_matrix(N,h):\n",
    "    A_max = 1e-2\n",
    "    A = np.zeros(shape=(N+1,N+1))\n",
    "    #T = np.zeros(N+1).reshape((N+1),1)\n",
    "    #F = np.zeros(N+1).reshape((N+1),1)\n",
    "    \n",
    "    #cdiff_coeff = [1.,-2,1.] #central diff approx\n",
    "    #fdiff_coeff = [1,-1] #forward euler approx\n",
    "\n",
    "    \n",
    "    for i in range(1,N):\n",
    "        z1 = deriv_Ah(i-0.5,h) \n",
    "        z2 = (deriv_Ah(i+0.5,h) + deriv_Ah(i-0.5,h))\n",
    "        z3 = deriv_Ah(i+0.5,h) \n",
    "        #if i <= h:\n",
    "        #    A[i,i-1:3+(i-1)] = [A_max,-2*A_max,A_max]\n",
    "        #elif i >h:\n",
    "        #    A[i,i-1:3+(i-1)] = [z1,z2,z3]\n",
    "        A[i,i-1:3+(i-1)] = [z1,-z2,z3]\n",
    "    return A \n"
   ]
  },
  {
   "cell_type": "code",
   "execution_count": 9,
   "id": "bb4a9f93-df85-4f02-870a-96b0c6de674b",
   "metadata": {},
   "outputs": [
    {
     "data": {
      "text/plain": [
       "-4.0"
      ]
     },
     "execution_count": 9,
     "metadata": {},
     "output_type": "execute_result"
    }
   ],
   "source": [
    "deriv_I(0,10)"
   ]
  },
  {
   "cell_type": "code",
   "execution_count": 10,
   "id": "fdd5d3f9-0f5a-487a-8ac4-01b894544e84",
   "metadata": {},
   "outputs": [
    {
     "data": {
      "text/plain": [
       "array([[ 1.e+00,  0.e+00,  0.e+00, ...,  0.e+00,  0.e+00,  0.e+00],\n",
       "       [ 1.e-02, -2.e-02,  1.e-02, ...,  0.e+00,  0.e+00,  0.e+00],\n",
       "       [ 0.e+00,  1.e-02, -2.e-02, ...,  0.e+00,  0.e+00,  0.e+00],\n",
       "       ...,\n",
       "       [ 0.e+00,  0.e+00,  0.e+00, ..., -2.e-04,  1.e-04,  0.e+00],\n",
       "       [ 0.e+00,  0.e+00,  0.e+00, ...,  1.e-04, -2.e-04,  1.e-04],\n",
       "       [ 0.e+00,  0.e+00,  0.e+00, ...,  0.e+00,  0.e+00,  1.e+00]])"
      ]
     },
     "execution_count": 10,
     "metadata": {},
     "output_type": "execute_result"
    }
   ],
   "source": [
    "# upper mixing layer\n",
    "# try putting both with a stencil change after h = 10 \n",
    "N = 200\n",
    "h = 10\n",
    "A = n_matrix(N,h)\n",
    "\n",
    "# Setting up initial conditions\n",
    "A[0,0] = 1 \n",
    "A[-1,-1] = 1 \n",
    "\n",
    "np.set_printoptions(linewidth=100)\n",
    "A"
   ]
  },
  {
   "cell_type": "code",
   "execution_count": 11,
   "id": "158b40a3-240f-4f98-8447-02f6ca03dcf6",
   "metadata": {},
   "outputs": [
    {
     "data": {
      "text/plain": [
       "35826502.626092196"
      ]
     },
     "execution_count": 11,
     "metadata": {},
     "output_type": "execute_result"
    }
   ],
   "source": [
    "np.linalg.cond(A)"
   ]
  },
  {
   "cell_type": "code",
   "execution_count": 12,
   "id": "bd86d8b2-3b52-4171-94b0-74521bb7b341",
   "metadata": {},
   "outputs": [],
   "source": [
    "alpha = 10\n",
    "cp = 4e6\n",
    "\n",
    "T = np.zeros(N+1).reshape((N+1),1)\n",
    "F = np.zeros(N+1).reshape((N+1),1)\n",
    "F[0] = -1 \n",
    "F[-1] = -2\n",
    "\n",
    "for d in range(1,N):\n",
    "    #if d < h:\n",
    "        # f = (deriv_I(d,alpha)/(cp*deriv_Ah(d,h)))*d**2\n",
    "        # f = 1/cp * deriv_I(d,alpha)\n",
    "    #elif d>=h:\n",
    "        # f = (deriv_I(d,alpha)/(cp*deriv_Ah(d,h)))*d\n",
    "    F[d] = (1/cp * deriv_I(d,alpha))\n",
    "    "
   ]
  },
  {
   "cell_type": "code",
   "execution_count": 13,
   "id": "873d449c-33bd-4909-b7a4-622e93a0e24d",
   "metadata": {},
   "outputs": [
    {
     "data": {
      "text/plain": [
       "array([-2.])"
      ]
     },
     "execution_count": 13,
     "metadata": {},
     "output_type": "execute_result"
    }
   ],
   "source": [
    "T = np.linalg.solve(A,F)\n",
    "len(T[:,0])\n",
    "depth = np.arange(len(T[:,0]))\n",
    "T[-1]"
   ]
  },
  {
   "cell_type": "code",
   "execution_count": 14,
   "id": "40108008-c688-4c30-a19f-2a8e7e505400",
   "metadata": {},
   "outputs": [
    {
     "data": {
      "text/plain": [
       "(200.0, 0.0)"
      ]
     },
     "execution_count": 14,
     "metadata": {},
     "output_type": "execute_result"
    },
    {
     "data": {
      "image/png": "[encoded data removed]",
      "text/plain": [
       "<Figure size 640x480 with 1 Axes>"
      ]
     },
     "metadata": {},
     "output_type": "display_data"
    }
   ],
   "source": [
    "plt.plot(T,depth)\n",
    "plt.ylim(200,0)\n",
    "#plt.xlim(-3,1)"
   ]
  },
  {
   "cell_type": "markdown",
   "id": "28fc7736-3313-410c-9969-f7f9b407056a",
   "metadata": {},
   "source": [
    "# part 1"
   ]
  }
 ],
 "metadata": {
  "kernelspec": {
   "display_name": "Python 3 (ipykernel)",
   "language": "python",
   "name": "python3"
  },
  "language_info": {
   "codemirror_mode": {
    "name": "ipython",
    "version": 3
   },
   "file_extension": ".py",
   "mimetype": "text/x-python",
   "name": "python",
   "nbconvert_exporter": "python",
   "pygments_lexer": "ipython3",
   "version": "3.12.1"
  }
 },
 "nbformat": 4,
 "nbformat_minor": 5
}
